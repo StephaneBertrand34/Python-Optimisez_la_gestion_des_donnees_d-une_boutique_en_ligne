{
 "cells": [
  {
   "cell_type": "markdown",
   "id": "6e3c3bda-b903-4d38-8a32-6d509fda0eca",
   "metadata": {},
   "source": [
    "# P5: Optimisez la gestion des données d'une boutique avec R ou Python"
   ]
  },
  {
   "cell_type": "code",
   "execution_count": 319,
   "id": "8182d042-ecb8-4393-9a0e-abe29fbea4b7",
   "metadata": {},
   "outputs": [],
   "source": [
    "import pandas as pd\n",
    "import matplotlib.pyplot as plt"
   ]
  },
  {
   "cell_type": "code",
   "execution_count": 320,
   "id": "a4e7a4d5-a5a0-42b6-99ca-eebeb5f97eb6",
   "metadata": {},
   "outputs": [
    {
     "name": "stderr",
     "output_type": "stream",
     "text": [
      "C:\\Users\\steph\\anaconda3\\lib\\site-packages\\openpyxl\\worksheet\\_reader.py:312: UserWarning: Unknown extension is not supported and will be removed\n",
      "  warn(msg)\n"
     ]
    }
   ],
   "source": [
    "erp = pd.read_excel('erp.xlsx')\n",
    "liaison = pd.read_excel('liaison.xlsx')\n",
    "web = pd.read_excel('web.xlsx')"
   ]
  },
  {
   "cell_type": "markdown",
   "id": "8b6ddb9c-b43a-4ba3-a9f8-4c3252008167",
   "metadata": {},
   "source": [
    "# Valeurs manquantes:"
   ]
  },
  {
   "cell_type": "code",
   "execution_count": 321,
   "id": "1256298a-95b6-4454-94bd-4a7f064e853e",
   "metadata": {},
   "outputs": [
    {
     "data": {
      "text/plain": [
       "product_id        0\n",
       "onsale_web        0\n",
       "price             0\n",
       "stock_quantity    0\n",
       "stock_status      0\n",
       "dtype: int64"
      ]
     },
     "execution_count": 321,
     "metadata": {},
     "output_type": "execute_result"
    }
   ],
   "source": [
    "erp.isnull().sum()"
   ]
  },
  {
   "cell_type": "code",
   "execution_count": 322,
   "id": "40280ee1-dff9-4dfc-9479-c4516760f68f",
   "metadata": {},
   "outputs": [
    {
     "data": {
      "text/plain": [
       "product_id     0\n",
       "id_web        91\n",
       "dtype: int64"
      ]
     },
     "execution_count": 322,
     "metadata": {},
     "output_type": "execute_result"
    }
   ],
   "source": [
    "liaison.isnull().sum()"
   ]
  },
  {
   "cell_type": "code",
   "execution_count": 323,
   "id": "4343c4df-7f5f-48b4-8fea-3886ac026767",
   "metadata": {},
   "outputs": [
    {
     "data": {
      "text/plain": [
       "sku                        85\n",
       "virtual                     0\n",
       "downloadable                0\n",
       "rating_count                0\n",
       "average_rating             83\n",
       "total_sales                83\n",
       "tax_status                797\n",
       "tax_class                1513\n",
       "post_author                83\n",
       "post_date                  83\n",
       "post_date_gmt              83\n",
       "post_content             1513\n",
       "post_title                 83\n",
       "post_excerpt              797\n",
       "post_status                83\n",
       "comment_status             83\n",
       "ping_status                83\n",
       "post_password            1513\n",
       "post_name                  83\n",
       "post_modified              83\n",
       "post_modified_gmt          83\n",
       "post_content_filtered    1513\n",
       "post_parent                83\n",
       "guid                       83\n",
       "menu_order                 83\n",
       "post_type                  83\n",
       "post_mime_type            799\n",
       "comment_count              83\n",
       "dtype: int64"
      ]
     },
     "execution_count": 323,
     "metadata": {},
     "output_type": "execute_result"
    }
   ],
   "source": [
    "web.isnull().sum()"
   ]
  },
  {
   "cell_type": "code",
   "execution_count": 324,
   "id": "8e9bd425-8649-4fdd-8c14-519b11f70393",
   "metadata": {},
   "outputs": [
    {
     "data": {
      "text/plain": [
       "(1513, 28)"
      ]
     },
     "execution_count": 324,
     "metadata": {},
     "output_type": "execute_result"
    }
   ],
   "source": [
    "web.shape"
   ]
  },
  {
   "cell_type": "code",
   "execution_count": 325,
   "id": "d20587b6-6179-4106-a4d3-58db8e525b20",
   "metadata": {},
   "outputs": [],
   "source": [
    "# Des colonnes ne contiennent aucune donnée.\n",
    "# Suppression des colonnes vides:\n",
    "web.dropna(axis=1, how='all', inplace=True)"
   ]
  },
  {
   "cell_type": "markdown",
   "id": "6c9b9f00-32b8-417e-a029-45b1053964cb",
   "metadata": {},
   "source": [
    "# Doublons:"
   ]
  },
  {
   "cell_type": "code",
   "execution_count": 326,
   "id": "51088ac9-1e1a-4ef0-b637-d361b4dc9090",
   "metadata": {},
   "outputs": [
    {
     "data": {
      "text/plain": [
       "0"
      ]
     },
     "execution_count": 326,
     "metadata": {},
     "output_type": "execute_result"
    }
   ],
   "source": [
    "erp.duplicated('product_id').sum()"
   ]
  },
  {
   "cell_type": "code",
   "execution_count": 327,
   "id": "e54a9515-a8e1-4380-b2a4-302bbbbabb6e",
   "metadata": {},
   "outputs": [
    {
     "name": "stdout",
     "output_type": "stream",
     "text": [
      "0\n",
      "91\n"
     ]
    }
   ],
   "source": [
    "print(liaison['product_id'].duplicated(keep=False).sum())\n",
    "print(liaison['id_web'].duplicated(keep=False).sum())"
   ]
  },
  {
   "cell_type": "code",
   "execution_count": 328,
   "id": "d00d08d0-eb00-4862-ab09-b6f24293ecfd",
   "metadata": {},
   "outputs": [
    {
     "data": {
      "text/plain": [
       "array([nan], dtype=object)"
      ]
     },
     "execution_count": 328,
     "metadata": {},
     "output_type": "execute_result"
    }
   ],
   "source": [
    "doublons_liaison = liaison.loc[liaison['id_web'].duplicated(keep=False), 'id_web']\n",
    "doublons_liaison.unique()\n",
    "# Les doublons \"liaison['id_web']\" sont tous des NaN:"
   ]
  },
  {
   "cell_type": "code",
   "execution_count": 329,
   "id": "d3d27bcd-e084-400a-a3c3-ae7ac3bd3b3b",
   "metadata": {},
   "outputs": [
    {
     "data": {
      "text/plain": [
       "83"
      ]
     },
     "execution_count": 329,
     "metadata": {},
     "output_type": "execute_result"
    }
   ],
   "source": [
    "web.duplicated(keep=False).sum()"
   ]
  },
  {
   "cell_type": "code",
   "execution_count": 330,
   "id": "490e132e-92ee-4952-8c2e-342faaeaf9a9",
   "metadata": {},
   "outputs": [
    {
     "data": {
      "text/html": [
       "<div>\n",
       "<style scoped>\n",
       "    .dataframe tbody tr th:only-of-type {\n",
       "        vertical-align: middle;\n",
       "    }\n",
       "\n",
       "    .dataframe tbody tr th {\n",
       "        vertical-align: top;\n",
       "    }\n",
       "\n",
       "    .dataframe thead th {\n",
       "        text-align: right;\n",
       "    }\n",
       "</style>\n",
       "<table border=\"1\" class=\"dataframe\">\n",
       "  <thead>\n",
       "    <tr style=\"text-align: right;\">\n",
       "      <th></th>\n",
       "      <th>sku</th>\n",
       "      <th>virtual</th>\n",
       "      <th>downloadable</th>\n",
       "      <th>rating_count</th>\n",
       "      <th>average_rating</th>\n",
       "      <th>total_sales</th>\n",
       "      <th>tax_status</th>\n",
       "      <th>post_author</th>\n",
       "      <th>post_date</th>\n",
       "      <th>post_date_gmt</th>\n",
       "      <th>...</th>\n",
       "      <th>ping_status</th>\n",
       "      <th>post_name</th>\n",
       "      <th>post_modified</th>\n",
       "      <th>post_modified_gmt</th>\n",
       "      <th>post_parent</th>\n",
       "      <th>guid</th>\n",
       "      <th>menu_order</th>\n",
       "      <th>post_type</th>\n",
       "      <th>post_mime_type</th>\n",
       "      <th>comment_count</th>\n",
       "    </tr>\n",
       "  </thead>\n",
       "  <tbody>\n",
       "    <tr>\n",
       "      <th>178</th>\n",
       "      <td>NaN</td>\n",
       "      <td>0</td>\n",
       "      <td>0</td>\n",
       "      <td>0</td>\n",
       "      <td>NaN</td>\n",
       "      <td>NaN</td>\n",
       "      <td>NaN</td>\n",
       "      <td>NaN</td>\n",
       "      <td>NaT</td>\n",
       "      <td>NaT</td>\n",
       "      <td>...</td>\n",
       "      <td>NaN</td>\n",
       "      <td>NaN</td>\n",
       "      <td>NaT</td>\n",
       "      <td>NaT</td>\n",
       "      <td>NaN</td>\n",
       "      <td>NaN</td>\n",
       "      <td>NaN</td>\n",
       "      <td>NaN</td>\n",
       "      <td>NaN</td>\n",
       "      <td>NaN</td>\n",
       "    </tr>\n",
       "    <tr>\n",
       "      <th>179</th>\n",
       "      <td>NaN</td>\n",
       "      <td>0</td>\n",
       "      <td>0</td>\n",
       "      <td>0</td>\n",
       "      <td>NaN</td>\n",
       "      <td>NaN</td>\n",
       "      <td>NaN</td>\n",
       "      <td>NaN</td>\n",
       "      <td>NaT</td>\n",
       "      <td>NaT</td>\n",
       "      <td>...</td>\n",
       "      <td>NaN</td>\n",
       "      <td>NaN</td>\n",
       "      <td>NaT</td>\n",
       "      <td>NaT</td>\n",
       "      <td>NaN</td>\n",
       "      <td>NaN</td>\n",
       "      <td>NaN</td>\n",
       "      <td>NaN</td>\n",
       "      <td>NaN</td>\n",
       "      <td>NaN</td>\n",
       "    </tr>\n",
       "    <tr>\n",
       "      <th>227</th>\n",
       "      <td>NaN</td>\n",
       "      <td>0</td>\n",
       "      <td>0</td>\n",
       "      <td>0</td>\n",
       "      <td>NaN</td>\n",
       "      <td>NaN</td>\n",
       "      <td>NaN</td>\n",
       "      <td>NaN</td>\n",
       "      <td>NaT</td>\n",
       "      <td>NaT</td>\n",
       "      <td>...</td>\n",
       "      <td>NaN</td>\n",
       "      <td>NaN</td>\n",
       "      <td>NaT</td>\n",
       "      <td>NaT</td>\n",
       "      <td>NaN</td>\n",
       "      <td>NaN</td>\n",
       "      <td>NaN</td>\n",
       "      <td>NaN</td>\n",
       "      <td>NaN</td>\n",
       "      <td>NaN</td>\n",
       "    </tr>\n",
       "    <tr>\n",
       "      <th>230</th>\n",
       "      <td>NaN</td>\n",
       "      <td>0</td>\n",
       "      <td>0</td>\n",
       "      <td>0</td>\n",
       "      <td>NaN</td>\n",
       "      <td>NaN</td>\n",
       "      <td>NaN</td>\n",
       "      <td>NaN</td>\n",
       "      <td>NaT</td>\n",
       "      <td>NaT</td>\n",
       "      <td>...</td>\n",
       "      <td>NaN</td>\n",
       "      <td>NaN</td>\n",
       "      <td>NaT</td>\n",
       "      <td>NaT</td>\n",
       "      <td>NaN</td>\n",
       "      <td>NaN</td>\n",
       "      <td>NaN</td>\n",
       "      <td>NaN</td>\n",
       "      <td>NaN</td>\n",
       "      <td>NaN</td>\n",
       "    </tr>\n",
       "    <tr>\n",
       "      <th>231</th>\n",
       "      <td>NaN</td>\n",
       "      <td>0</td>\n",
       "      <td>0</td>\n",
       "      <td>0</td>\n",
       "      <td>NaN</td>\n",
       "      <td>NaN</td>\n",
       "      <td>NaN</td>\n",
       "      <td>NaN</td>\n",
       "      <td>NaT</td>\n",
       "      <td>NaT</td>\n",
       "      <td>...</td>\n",
       "      <td>NaN</td>\n",
       "      <td>NaN</td>\n",
       "      <td>NaT</td>\n",
       "      <td>NaT</td>\n",
       "      <td>NaN</td>\n",
       "      <td>NaN</td>\n",
       "      <td>NaN</td>\n",
       "      <td>NaN</td>\n",
       "      <td>NaN</td>\n",
       "      <td>NaN</td>\n",
       "    </tr>\n",
       "  </tbody>\n",
       "</table>\n",
       "<p>5 rows × 24 columns</p>\n",
       "</div>"
      ],
      "text/plain": [
       "     sku  virtual  downloadable  rating_count  average_rating  total_sales  \\\n",
       "178  NaN        0             0             0             NaN          NaN   \n",
       "179  NaN        0             0             0             NaN          NaN   \n",
       "227  NaN        0             0             0             NaN          NaN   \n",
       "230  NaN        0             0             0             NaN          NaN   \n",
       "231  NaN        0             0             0             NaN          NaN   \n",
       "\n",
       "    tax_status  post_author post_date post_date_gmt  ... ping_status  \\\n",
       "178        NaN          NaN       NaT           NaT  ...         NaN   \n",
       "179        NaN          NaN       NaT           NaT  ...         NaN   \n",
       "227        NaN          NaN       NaT           NaT  ...         NaN   \n",
       "230        NaN          NaN       NaT           NaT  ...         NaN   \n",
       "231        NaN          NaN       NaT           NaT  ...         NaN   \n",
       "\n",
       "    post_name post_modified post_modified_gmt post_parent guid menu_order  \\\n",
       "178       NaN           NaT               NaT         NaN  NaN        NaN   \n",
       "179       NaN           NaT               NaT         NaN  NaN        NaN   \n",
       "227       NaN           NaT               NaT         NaN  NaN        NaN   \n",
       "230       NaN           NaT               NaT         NaN  NaN        NaN   \n",
       "231       NaN           NaT               NaT         NaN  NaN        NaN   \n",
       "\n",
       "    post_type  post_mime_type comment_count  \n",
       "178       NaN             NaN           NaN  \n",
       "179       NaN             NaN           NaN  \n",
       "227       NaN             NaN           NaN  \n",
       "230       NaN             NaN           NaN  \n",
       "231       NaN             NaN           NaN  \n",
       "\n",
       "[5 rows x 24 columns]"
      ]
     },
     "execution_count": 330,
     "metadata": {},
     "output_type": "execute_result"
    }
   ],
   "source": [
    "doublons_web = web.loc[web.duplicated(keep=False), :]\n",
    "doublons_web.head()"
   ]
  },
  {
   "cell_type": "code",
   "execution_count": 331,
   "id": "e489bc96-8a60-4e7d-8ef6-9da98c3388db",
   "metadata": {},
   "outputs": [
    {
     "data": {
      "text/plain": [
       "sku                  83\n",
       "virtual               0\n",
       "downloadable          0\n",
       "rating_count          0\n",
       "average_rating       83\n",
       "total_sales          83\n",
       "tax_status           83\n",
       "post_author          83\n",
       "post_date            83\n",
       "post_date_gmt        83\n",
       "post_title           83\n",
       "post_excerpt         83\n",
       "post_status          83\n",
       "comment_status       83\n",
       "ping_status          83\n",
       "post_name            83\n",
       "post_modified        83\n",
       "post_modified_gmt    83\n",
       "post_parent          83\n",
       "guid                 83\n",
       "menu_order           83\n",
       "post_type            83\n",
       "post_mime_type       83\n",
       "comment_count        83\n",
       "dtype: int64"
      ]
     },
     "execution_count": 331,
     "metadata": {},
     "output_type": "execute_result"
    }
   ],
   "source": [
    "doublons_web.isnull().sum()\n",
    "# Toutes les colonnes de 'doublons_web' sont nulles, sauf 3:"
   ]
  },
  {
   "cell_type": "code",
   "execution_count": 332,
   "id": "18a7defe-b8e1-4972-9989-2842e753ca25",
   "metadata": {},
   "outputs": [
    {
     "name": "stdout",
     "output_type": "stream",
     "text": [
      "[0]\n",
      "[0]\n",
      "[0]\n"
     ]
    }
   ],
   "source": [
    "print(web['virtual'].unique())\n",
    "print(web['downloadable'].unique())\n",
    "print(web['rating_count'].unique())\n",
    "# Les colonnes non nulles ne contiennent que des 0."
   ]
  },
  {
   "cell_type": "code",
   "execution_count": 333,
   "id": "55001ce8-4d15-4d5a-9eec-49d85380249d",
   "metadata": {},
   "outputs": [],
   "source": [
    "# Aucune information utile dans ces 83 lignes, je les supprime:\n",
    "web = web.drop_duplicates(keep=False)"
   ]
  },
  {
   "cell_type": "markdown",
   "id": "7bfd2728-3744-4298-8ec2-c5efe04fc3f2",
   "metadata": {},
   "source": [
    "# Recherche de clés uniques:"
   ]
  },
  {
   "cell_type": "code",
   "execution_count": 334,
   "id": "b4be8bb2-4c43-4f5f-b5bd-dfe459404c84",
   "metadata": {},
   "outputs": [
    {
     "data": {
      "text/plain": [
       "(825, 5)"
      ]
     },
     "execution_count": 334,
     "metadata": {},
     "output_type": "execute_result"
    }
   ],
   "source": [
    "erp.shape"
   ]
  },
  {
   "cell_type": "code",
   "execution_count": 335,
   "id": "e4d49fac-0b9d-4d88-9a9e-111d492ab522",
   "metadata": {},
   "outputs": [
    {
     "data": {
      "text/plain": [
       "(825,)"
      ]
     },
     "execution_count": 335,
     "metadata": {},
     "output_type": "execute_result"
    }
   ],
   "source": [
    "erp['product_id'].unique().shape"
   ]
  },
  {
   "cell_type": "markdown",
   "id": "b9d367c2-ed9c-405c-b635-043eb96a8e5e",
   "metadata": {},
   "source": [
    "Pas de doublons dans 'erp['product_id']'"
   ]
  },
  {
   "cell_type": "code",
   "execution_count": 336,
   "id": "1ec3c33b-26e1-4bff-8541-1667627b639e",
   "metadata": {},
   "outputs": [
    {
     "data": {
      "text/plain": [
       "(1430, 24)"
      ]
     },
     "execution_count": 336,
     "metadata": {},
     "output_type": "execute_result"
    }
   ],
   "source": [
    "web.shape"
   ]
  },
  {
   "cell_type": "code",
   "execution_count": 337,
   "id": "ed157381-f266-485c-bddd-e662ee5cd6cd",
   "metadata": {},
   "outputs": [
    {
     "data": {
      "text/plain": [
       "(715,)"
      ]
     },
     "execution_count": 337,
     "metadata": {},
     "output_type": "execute_result"
    }
   ],
   "source": [
    "web['sku'].unique().shape\n",
    "# Le nombre de valeurs uniques est égal à exactement la moitié du nombre de lignes de 'web'. Hypothèse pour plus tard: chaque 'sku' apparaît 2 fois."
   ]
  },
  {
   "cell_type": "code",
   "execution_count": 338,
   "id": "8b7e3760-2bff-4b60-8fad-0e82bbcca49b",
   "metadata": {},
   "outputs": [
    {
     "data": {
      "text/plain": [
       "sku                          object\n",
       "virtual                       int64\n",
       "downloadable                  int64\n",
       "rating_count                  int64\n",
       "average_rating              float64\n",
       "total_sales                 float64\n",
       "tax_status                   object\n",
       "post_author                 float64\n",
       "post_date            datetime64[ns]\n",
       "post_date_gmt        datetime64[ns]\n",
       "post_title                   object\n",
       "post_excerpt                 object\n",
       "post_status                  object\n",
       "comment_status               object\n",
       "ping_status                  object\n",
       "post_name                    object\n",
       "post_modified        datetime64[ns]\n",
       "post_modified_gmt    datetime64[ns]\n",
       "post_parent                 float64\n",
       "guid                         object\n",
       "menu_order                  float64\n",
       "post_type                    object\n",
       "post_mime_type               object\n",
       "comment_count               float64\n",
       "dtype: object"
      ]
     },
     "execution_count": 338,
     "metadata": {},
     "output_type": "execute_result"
    }
   ],
   "source": [
    "web.dtypes"
   ]
  },
  {
   "cell_type": "code",
   "execution_count": 339,
   "id": "50de7971-f0d3-4267-98f8-bd6f910e21c4",
   "metadata": {},
   "outputs": [
    {
     "data": {
      "text/html": [
       "<div>\n",
       "<style scoped>\n",
       "    .dataframe tbody tr th:only-of-type {\n",
       "        vertical-align: middle;\n",
       "    }\n",
       "\n",
       "    .dataframe tbody tr th {\n",
       "        vertical-align: top;\n",
       "    }\n",
       "\n",
       "    .dataframe thead th {\n",
       "        text-align: right;\n",
       "    }\n",
       "</style>\n",
       "<table border=\"1\" class=\"dataframe\">\n",
       "  <thead>\n",
       "    <tr style=\"text-align: right;\">\n",
       "      <th></th>\n",
       "      <th>sku</th>\n",
       "      <th>virtual</th>\n",
       "      <th>downloadable</th>\n",
       "      <th>rating_count</th>\n",
       "      <th>average_rating</th>\n",
       "      <th>total_sales</th>\n",
       "      <th>tax_status</th>\n",
       "      <th>post_author</th>\n",
       "      <th>post_date</th>\n",
       "      <th>post_date_gmt</th>\n",
       "      <th>...</th>\n",
       "      <th>post_name</th>\n",
       "      <th>post_modified</th>\n",
       "      <th>post_modified_gmt</th>\n",
       "      <th>post_parent</th>\n",
       "      <th>guid</th>\n",
       "      <th>menu_order</th>\n",
       "      <th>post_type</th>\n",
       "      <th>post_mime_type</th>\n",
       "      <th>comment_count</th>\n",
       "      <th>sku1</th>\n",
       "    </tr>\n",
       "  </thead>\n",
       "  <tbody>\n",
       "    <tr>\n",
       "      <th>0</th>\n",
       "      <td>bon-cadeau-25-euros</td>\n",
       "      <td>0</td>\n",
       "      <td>0</td>\n",
       "      <td>0</td>\n",
       "      <td>0.0</td>\n",
       "      <td>10.0</td>\n",
       "      <td>taxable</td>\n",
       "      <td>1.0</td>\n",
       "      <td>2018-06-01 13:53:46</td>\n",
       "      <td>2018-06-01 11:53:46</td>\n",
       "      <td>...</td>\n",
       "      <td>bon-cadeau-de-25-euros</td>\n",
       "      <td>2018-06-01 14:13:57</td>\n",
       "      <td>2018-06-01 12:13:57</td>\n",
       "      <td>0.0</td>\n",
       "      <td>https://www.bottle-neck.fr/?post_type=product&amp;...</td>\n",
       "      <td>0.0</td>\n",
       "      <td>product</td>\n",
       "      <td>NaN</td>\n",
       "      <td>0.0</td>\n",
       "      <td>NaN</td>\n",
       "    </tr>\n",
       "    <tr>\n",
       "      <th>470</th>\n",
       "      <td>NaN</td>\n",
       "      <td>0</td>\n",
       "      <td>0</td>\n",
       "      <td>0</td>\n",
       "      <td>0.0</td>\n",
       "      <td>0.0</td>\n",
       "      <td>taxable</td>\n",
       "      <td>2.0</td>\n",
       "      <td>2018-07-31 12:07:23</td>\n",
       "      <td>2018-07-31 10:07:23</td>\n",
       "      <td>...</td>\n",
       "      <td>pierre-jean-villa-cote-rotie-fongeant-2017</td>\n",
       "      <td>2019-11-02 13:24:15</td>\n",
       "      <td>2019-11-02 12:24:15</td>\n",
       "      <td>0.0</td>\n",
       "      <td>https://www.bottle-neck.fr/?post_type=product&amp;...</td>\n",
       "      <td>0.0</td>\n",
       "      <td>product</td>\n",
       "      <td>NaN</td>\n",
       "      <td>0.0</td>\n",
       "      <td>NaN</td>\n",
       "    </tr>\n",
       "    <tr>\n",
       "      <th>471</th>\n",
       "      <td>NaN</td>\n",
       "      <td>0</td>\n",
       "      <td>0</td>\n",
       "      <td>0</td>\n",
       "      <td>0.0</td>\n",
       "      <td>0.0</td>\n",
       "      <td>taxable</td>\n",
       "      <td>2.0</td>\n",
       "      <td>2018-08-08 11:23:43</td>\n",
       "      <td>2018-08-08 09:23:43</td>\n",
       "      <td>...</td>\n",
       "      <td>pierre-jean-villa-condrieu-suspendu-2018</td>\n",
       "      <td>2019-11-02 13:24:01</td>\n",
       "      <td>2019-11-02 12:24:01</td>\n",
       "      <td>0.0</td>\n",
       "      <td>https://www.bottle-neck.fr/?post_type=product&amp;...</td>\n",
       "      <td>0.0</td>\n",
       "      <td>product</td>\n",
       "      <td>NaN</td>\n",
       "      <td>0.0</td>\n",
       "      <td>NaN</td>\n",
       "    </tr>\n",
       "    <tr>\n",
       "      <th>797</th>\n",
       "      <td>13127-1</td>\n",
       "      <td>0</td>\n",
       "      <td>0</td>\n",
       "      <td>0</td>\n",
       "      <td>0.0</td>\n",
       "      <td>0.0</td>\n",
       "      <td>taxable</td>\n",
       "      <td>2.0</td>\n",
       "      <td>2020-06-09 15:42:04</td>\n",
       "      <td>2020-06-09 13:42:04</td>\n",
       "      <td>...</td>\n",
       "      <td>clos-du-mont-olivet-chateauneuf-du-pape-2007-2</td>\n",
       "      <td>2020-07-20 17:09:06</td>\n",
       "      <td>2020-07-20 15:09:06</td>\n",
       "      <td>0.0</td>\n",
       "      <td>https://www.bottle-neck.fr/?post_type=product&amp;...</td>\n",
       "      <td>0.0</td>\n",
       "      <td>product</td>\n",
       "      <td>NaN</td>\n",
       "      <td>0.0</td>\n",
       "      <td>NaN</td>\n",
       "    </tr>\n",
       "    <tr>\n",
       "      <th>1209</th>\n",
       "      <td>bon-cadeau-25-euros</td>\n",
       "      <td>0</td>\n",
       "      <td>0</td>\n",
       "      <td>0</td>\n",
       "      <td>0.0</td>\n",
       "      <td>10.0</td>\n",
       "      <td>NaN</td>\n",
       "      <td>1.0</td>\n",
       "      <td>2018-06-01 13:53:46</td>\n",
       "      <td>2018-06-01 11:53:46</td>\n",
       "      <td>...</td>\n",
       "      <td>bon-cadeau-de-25-euros</td>\n",
       "      <td>2018-06-01 14:13:57</td>\n",
       "      <td>2018-06-01 12:13:57</td>\n",
       "      <td>0.0</td>\n",
       "      <td>https://www.bottle-neck.fr/wp-content/uploads/...</td>\n",
       "      <td>0.0</td>\n",
       "      <td>attachment</td>\n",
       "      <td>image/jpeg</td>\n",
       "      <td>0.0</td>\n",
       "      <td>NaN</td>\n",
       "    </tr>\n",
       "    <tr>\n",
       "      <th>1511</th>\n",
       "      <td>13127-1</td>\n",
       "      <td>0</td>\n",
       "      <td>0</td>\n",
       "      <td>0</td>\n",
       "      <td>0.0</td>\n",
       "      <td>0.0</td>\n",
       "      <td>NaN</td>\n",
       "      <td>2.0</td>\n",
       "      <td>2020-06-09 15:42:04</td>\n",
       "      <td>2020-06-09 13:42:04</td>\n",
       "      <td>...</td>\n",
       "      <td>clos-du-mont-olivet-chateauneuf-du-pape-2007-2</td>\n",
       "      <td>2020-07-20 17:09:06</td>\n",
       "      <td>2020-07-20 15:09:06</td>\n",
       "      <td>0.0</td>\n",
       "      <td>https://www.bottle-neck.fr/wp-content/uploads/...</td>\n",
       "      <td>0.0</td>\n",
       "      <td>attachment</td>\n",
       "      <td>image/jpeg</td>\n",
       "      <td>0.0</td>\n",
       "      <td>NaN</td>\n",
       "    </tr>\n",
       "  </tbody>\n",
       "</table>\n",
       "<p>6 rows × 25 columns</p>\n",
       "</div>"
      ],
      "text/plain": [
       "                      sku  virtual  downloadable  rating_count  \\\n",
       "0     bon-cadeau-25-euros        0             0             0   \n",
       "470                   NaN        0             0             0   \n",
       "471                   NaN        0             0             0   \n",
       "797               13127-1        0             0             0   \n",
       "1209  bon-cadeau-25-euros        0             0             0   \n",
       "1511              13127-1        0             0             0   \n",
       "\n",
       "      average_rating  total_sales tax_status  post_author           post_date  \\\n",
       "0                0.0         10.0    taxable          1.0 2018-06-01 13:53:46   \n",
       "470              0.0          0.0    taxable          2.0 2018-07-31 12:07:23   \n",
       "471              0.0          0.0    taxable          2.0 2018-08-08 11:23:43   \n",
       "797              0.0          0.0    taxable          2.0 2020-06-09 15:42:04   \n",
       "1209             0.0         10.0        NaN          1.0 2018-06-01 13:53:46   \n",
       "1511             0.0          0.0        NaN          2.0 2020-06-09 15:42:04   \n",
       "\n",
       "           post_date_gmt  ...                                       post_name  \\\n",
       "0    2018-06-01 11:53:46  ...                          bon-cadeau-de-25-euros   \n",
       "470  2018-07-31 10:07:23  ...      pierre-jean-villa-cote-rotie-fongeant-2017   \n",
       "471  2018-08-08 09:23:43  ...        pierre-jean-villa-condrieu-suspendu-2018   \n",
       "797  2020-06-09 13:42:04  ...  clos-du-mont-olivet-chateauneuf-du-pape-2007-2   \n",
       "1209 2018-06-01 11:53:46  ...                          bon-cadeau-de-25-euros   \n",
       "1511 2020-06-09 13:42:04  ...  clos-du-mont-olivet-chateauneuf-du-pape-2007-2   \n",
       "\n",
       "           post_modified   post_modified_gmt post_parent  \\\n",
       "0    2018-06-01 14:13:57 2018-06-01 12:13:57         0.0   \n",
       "470  2019-11-02 13:24:15 2019-11-02 12:24:15         0.0   \n",
       "471  2019-11-02 13:24:01 2019-11-02 12:24:01         0.0   \n",
       "797  2020-07-20 17:09:06 2020-07-20 15:09:06         0.0   \n",
       "1209 2018-06-01 14:13:57 2018-06-01 12:13:57         0.0   \n",
       "1511 2020-07-20 17:09:06 2020-07-20 15:09:06         0.0   \n",
       "\n",
       "                                                   guid menu_order  \\\n",
       "0     https://www.bottle-neck.fr/?post_type=product&...        0.0   \n",
       "470   https://www.bottle-neck.fr/?post_type=product&...        0.0   \n",
       "471   https://www.bottle-neck.fr/?post_type=product&...        0.0   \n",
       "797   https://www.bottle-neck.fr/?post_type=product&...        0.0   \n",
       "1209  https://www.bottle-neck.fr/wp-content/uploads/...        0.0   \n",
       "1511  https://www.bottle-neck.fr/wp-content/uploads/...        0.0   \n",
       "\n",
       "       post_type post_mime_type  comment_count sku1  \n",
       "0        product            NaN            0.0  NaN  \n",
       "470      product            NaN            0.0  NaN  \n",
       "471      product            NaN            0.0  NaN  \n",
       "797      product            NaN            0.0  NaN  \n",
       "1209  attachment     image/jpeg            0.0  NaN  \n",
       "1511  attachment     image/jpeg            0.0  NaN  \n",
       "\n",
       "[6 rows x 25 columns]"
      ]
     },
     "execution_count": 339,
     "metadata": {},
     "output_type": "execute_result"
    }
   ],
   "source": [
    "# Recherche de valeurs 'sku' problématiques:\n",
    "web['sku1'] = pd.to_numeric(web['sku'], errors='coerce')\n",
    "web.loc[web['sku1'].isnull()]"
   ]
  },
  {
   "cell_type": "markdown",
   "id": "c19f1fdd-06e8-458f-88e9-f059db208be2",
   "metadata": {},
   "source": [
    "##### <font color='green'> Valeurs 'sku' potentiellement problématiques: 'bon-cadeau-25-euros', '13127-1' et 2 NaN </font>"
   ]
  },
  {
   "cell_type": "code",
   "execution_count": 340,
   "id": "b68e7067-1072-4a95-afad-00e7b6e243fe",
   "metadata": {},
   "outputs": [
    {
     "data": {
      "text/html": [
       "<div>\n",
       "<style scoped>\n",
       "    .dataframe tbody tr th:only-of-type {\n",
       "        vertical-align: middle;\n",
       "    }\n",
       "\n",
       "    .dataframe tbody tr th {\n",
       "        vertical-align: top;\n",
       "    }\n",
       "\n",
       "    .dataframe thead th {\n",
       "        text-align: right;\n",
       "    }\n",
       "</style>\n",
       "<table border=\"1\" class=\"dataframe\">\n",
       "  <thead>\n",
       "    <tr style=\"text-align: right;\">\n",
       "      <th></th>\n",
       "      <th>sku</th>\n",
       "      <th>virtual</th>\n",
       "      <th>downloadable</th>\n",
       "      <th>rating_count</th>\n",
       "      <th>average_rating</th>\n",
       "      <th>total_sales</th>\n",
       "      <th>tax_status</th>\n",
       "      <th>post_author</th>\n",
       "      <th>post_date</th>\n",
       "      <th>post_date_gmt</th>\n",
       "      <th>...</th>\n",
       "      <th>post_name</th>\n",
       "      <th>post_modified</th>\n",
       "      <th>post_modified_gmt</th>\n",
       "      <th>post_parent</th>\n",
       "      <th>guid</th>\n",
       "      <th>menu_order</th>\n",
       "      <th>post_type</th>\n",
       "      <th>post_mime_type</th>\n",
       "      <th>comment_count</th>\n",
       "      <th>sku1</th>\n",
       "    </tr>\n",
       "  </thead>\n",
       "  <tbody>\n",
       "    <tr>\n",
       "      <th>470</th>\n",
       "      <td>NaN</td>\n",
       "      <td>0</td>\n",
       "      <td>0</td>\n",
       "      <td>0</td>\n",
       "      <td>0.0</td>\n",
       "      <td>0.0</td>\n",
       "      <td>taxable</td>\n",
       "      <td>2.0</td>\n",
       "      <td>2018-07-31 12:07:23</td>\n",
       "      <td>2018-07-31 10:07:23</td>\n",
       "      <td>...</td>\n",
       "      <td>pierre-jean-villa-cote-rotie-fongeant-2017</td>\n",
       "      <td>2019-11-02 13:24:15</td>\n",
       "      <td>2019-11-02 12:24:15</td>\n",
       "      <td>0.0</td>\n",
       "      <td>https://www.bottle-neck.fr/?post_type=product&amp;...</td>\n",
       "      <td>0.0</td>\n",
       "      <td>product</td>\n",
       "      <td>NaN</td>\n",
       "      <td>0.0</td>\n",
       "      <td>NaN</td>\n",
       "    </tr>\n",
       "    <tr>\n",
       "      <th>471</th>\n",
       "      <td>NaN</td>\n",
       "      <td>0</td>\n",
       "      <td>0</td>\n",
       "      <td>0</td>\n",
       "      <td>0.0</td>\n",
       "      <td>0.0</td>\n",
       "      <td>taxable</td>\n",
       "      <td>2.0</td>\n",
       "      <td>2018-08-08 11:23:43</td>\n",
       "      <td>2018-08-08 09:23:43</td>\n",
       "      <td>...</td>\n",
       "      <td>pierre-jean-villa-condrieu-suspendu-2018</td>\n",
       "      <td>2019-11-02 13:24:01</td>\n",
       "      <td>2019-11-02 12:24:01</td>\n",
       "      <td>0.0</td>\n",
       "      <td>https://www.bottle-neck.fr/?post_type=product&amp;...</td>\n",
       "      <td>0.0</td>\n",
       "      <td>product</td>\n",
       "      <td>NaN</td>\n",
       "      <td>0.0</td>\n",
       "      <td>NaN</td>\n",
       "    </tr>\n",
       "  </tbody>\n",
       "</table>\n",
       "<p>2 rows × 25 columns</p>\n",
       "</div>"
      ],
      "text/plain": [
       "     sku  virtual  downloadable  rating_count  average_rating  total_sales  \\\n",
       "470  NaN        0             0             0             0.0          0.0   \n",
       "471  NaN        0             0             0             0.0          0.0   \n",
       "\n",
       "    tax_status  post_author           post_date       post_date_gmt  ...  \\\n",
       "470    taxable          2.0 2018-07-31 12:07:23 2018-07-31 10:07:23  ...   \n",
       "471    taxable          2.0 2018-08-08 11:23:43 2018-08-08 09:23:43  ...   \n",
       "\n",
       "                                      post_name       post_modified  \\\n",
       "470  pierre-jean-villa-cote-rotie-fongeant-2017 2019-11-02 13:24:15   \n",
       "471    pierre-jean-villa-condrieu-suspendu-2018 2019-11-02 13:24:01   \n",
       "\n",
       "      post_modified_gmt post_parent  \\\n",
       "470 2019-11-02 12:24:15         0.0   \n",
       "471 2019-11-02 12:24:01         0.0   \n",
       "\n",
       "                                                  guid menu_order post_type  \\\n",
       "470  https://www.bottle-neck.fr/?post_type=product&...        0.0   product   \n",
       "471  https://www.bottle-neck.fr/?post_type=product&...        0.0   product   \n",
       "\n",
       "    post_mime_type  comment_count sku1  \n",
       "470            NaN            0.0  NaN  \n",
       "471            NaN            0.0  NaN  \n",
       "\n",
       "[2 rows x 25 columns]"
      ]
     },
     "execution_count": 340,
     "metadata": {},
     "output_type": "execute_result"
    }
   ],
   "source": [
    "web.loc[web['sku'].isnull()]"
   ]
  },
  {
   "cell_type": "markdown",
   "id": "c9518f1a-7c20-4559-9bbf-76230bb2e2b3",
   "metadata": {},
   "source": [
    "##### <font color='green'> Les 'sku' manquants ici devraient pouvoir être facilement retrouvés. En attendant, je vais supprimer ces 2 lignes. Elles seront réintégrées quand l'information manquante sera disponible. Pas d'impact sur les calculs ci-après, ces 2 lignes affichent 0 vente. </font>"
   ]
  },
  {
   "cell_type": "code",
   "execution_count": 341,
   "id": "10ca44eb-444f-4827-a418-29875c48c951",
   "metadata": {},
   "outputs": [],
   "source": [
    "web1 = web.dropna(subset=['sku'])"
   ]
  },
  {
   "cell_type": "code",
   "execution_count": 342,
   "id": "1bc6111c-9113-42e8-a49d-72b3b8bb6d68",
   "metadata": {},
   "outputs": [
    {
     "data": {
      "text/html": [
       "<div>\n",
       "<style scoped>\n",
       "    .dataframe tbody tr th:only-of-type {\n",
       "        vertical-align: middle;\n",
       "    }\n",
       "\n",
       "    .dataframe tbody tr th {\n",
       "        vertical-align: top;\n",
       "    }\n",
       "\n",
       "    .dataframe thead th {\n",
       "        text-align: right;\n",
       "    }\n",
       "</style>\n",
       "<table border=\"1\" class=\"dataframe\">\n",
       "  <thead>\n",
       "    <tr style=\"text-align: right;\">\n",
       "      <th></th>\n",
       "      <th>sku</th>\n",
       "      <th>virtual</th>\n",
       "      <th>downloadable</th>\n",
       "      <th>rating_count</th>\n",
       "      <th>average_rating</th>\n",
       "      <th>total_sales</th>\n",
       "      <th>tax_status</th>\n",
       "      <th>post_author</th>\n",
       "      <th>post_date</th>\n",
       "      <th>post_date_gmt</th>\n",
       "      <th>...</th>\n",
       "      <th>post_name</th>\n",
       "      <th>post_modified</th>\n",
       "      <th>post_modified_gmt</th>\n",
       "      <th>post_parent</th>\n",
       "      <th>guid</th>\n",
       "      <th>menu_order</th>\n",
       "      <th>post_type</th>\n",
       "      <th>post_mime_type</th>\n",
       "      <th>comment_count</th>\n",
       "      <th>sku1</th>\n",
       "    </tr>\n",
       "  </thead>\n",
       "  <tbody>\n",
       "    <tr>\n",
       "      <th>339</th>\n",
       "      <td>38</td>\n",
       "      <td>0</td>\n",
       "      <td>0</td>\n",
       "      <td>0</td>\n",
       "      <td>0.0</td>\n",
       "      <td>38.0</td>\n",
       "      <td>taxable</td>\n",
       "      <td>2.0</td>\n",
       "      <td>2018-04-18 12:25:58</td>\n",
       "      <td>2018-04-18 10:25:58</td>\n",
       "      <td>...</td>\n",
       "      <td>emile-boeckel-cremant-brut-blanc-de-blancs</td>\n",
       "      <td>2020-08-27 17:15:03</td>\n",
       "      <td>2020-08-27 15:15:03</td>\n",
       "      <td>0.0</td>\n",
       "      <td>https://www.bottle-neck.fr/?post_type=product&amp;...</td>\n",
       "      <td>0.0</td>\n",
       "      <td>product</td>\n",
       "      <td>NaN</td>\n",
       "      <td>0.0</td>\n",
       "      <td>38.0</td>\n",
       "    </tr>\n",
       "    <tr>\n",
       "      <th>1123</th>\n",
       "      <td>38</td>\n",
       "      <td>0</td>\n",
       "      <td>0</td>\n",
       "      <td>0</td>\n",
       "      <td>0.0</td>\n",
       "      <td>38.0</td>\n",
       "      <td>NaN</td>\n",
       "      <td>2.0</td>\n",
       "      <td>2018-04-18 12:25:58</td>\n",
       "      <td>2018-04-18 10:25:58</td>\n",
       "      <td>...</td>\n",
       "      <td>emile-boeckel-cremant-brut-blanc-de-blancs</td>\n",
       "      <td>2020-08-27 17:15:03</td>\n",
       "      <td>2020-08-27 15:15:03</td>\n",
       "      <td>0.0</td>\n",
       "      <td>https://www.bottle-neck.fr/wp-content/uploads/...</td>\n",
       "      <td>0.0</td>\n",
       "      <td>attachment</td>\n",
       "      <td>image/jpeg</td>\n",
       "      <td>0.0</td>\n",
       "      <td>38.0</td>\n",
       "    </tr>\n",
       "    <tr>\n",
       "      <th>1060</th>\n",
       "      <td>41</td>\n",
       "      <td>0</td>\n",
       "      <td>0</td>\n",
       "      <td>0</td>\n",
       "      <td>0.0</td>\n",
       "      <td>0.0</td>\n",
       "      <td>NaN</td>\n",
       "      <td>2.0</td>\n",
       "      <td>2018-04-14 12:01:43</td>\n",
       "      <td>2018-04-14 10:01:43</td>\n",
       "      <td>...</td>\n",
       "      <td>marcel-windholtz-eau-de-marc-de-gewurztraminer</td>\n",
       "      <td>2020-08-03 10:25:02</td>\n",
       "      <td>2020-08-03 08:25:02</td>\n",
       "      <td>0.0</td>\n",
       "      <td>https://www.bottle-neck.fr/wp-content/uploads/...</td>\n",
       "      <td>0.0</td>\n",
       "      <td>attachment</td>\n",
       "      <td>image/jpeg</td>\n",
       "      <td>0.0</td>\n",
       "      <td>41.0</td>\n",
       "    </tr>\n",
       "    <tr>\n",
       "      <th>269</th>\n",
       "      <td>41</td>\n",
       "      <td>0</td>\n",
       "      <td>0</td>\n",
       "      <td>0</td>\n",
       "      <td>0.0</td>\n",
       "      <td>0.0</td>\n",
       "      <td>taxable</td>\n",
       "      <td>2.0</td>\n",
       "      <td>2018-04-14 12:01:43</td>\n",
       "      <td>2018-04-14 10:01:43</td>\n",
       "      <td>...</td>\n",
       "      <td>marcel-windholtz-eau-de-marc-de-gewurztraminer</td>\n",
       "      <td>2020-08-03 10:25:02</td>\n",
       "      <td>2020-08-03 08:25:02</td>\n",
       "      <td>0.0</td>\n",
       "      <td>https://www.bottle-neck.fr/?post_type=product&amp;...</td>\n",
       "      <td>0.0</td>\n",
       "      <td>product</td>\n",
       "      <td>NaN</td>\n",
       "      <td>0.0</td>\n",
       "      <td>41.0</td>\n",
       "    </tr>\n",
       "    <tr>\n",
       "      <th>70</th>\n",
       "      <td>304</td>\n",
       "      <td>0</td>\n",
       "      <td>0</td>\n",
       "      <td>0</td>\n",
       "      <td>0.0</td>\n",
       "      <td>40.0</td>\n",
       "      <td>taxable</td>\n",
       "      <td>2.0</td>\n",
       "      <td>2018-02-13 12:57:44</td>\n",
       "      <td>2018-02-13 11:57:44</td>\n",
       "      <td>...</td>\n",
       "      <td>gosset-champagne-grande-reserve</td>\n",
       "      <td>2020-08-27 11:25:02</td>\n",
       "      <td>2020-08-27 09:25:02</td>\n",
       "      <td>0.0</td>\n",
       "      <td>https://www.bottle-neck.fr/?post_type=product&amp;...</td>\n",
       "      <td>0.0</td>\n",
       "      <td>product</td>\n",
       "      <td>NaN</td>\n",
       "      <td>0.0</td>\n",
       "      <td>304.0</td>\n",
       "    </tr>\n",
       "    <tr>\n",
       "      <th>...</th>\n",
       "      <td>...</td>\n",
       "      <td>...</td>\n",
       "      <td>...</td>\n",
       "      <td>...</td>\n",
       "      <td>...</td>\n",
       "      <td>...</td>\n",
       "      <td>...</td>\n",
       "      <td>...</td>\n",
       "      <td>...</td>\n",
       "      <td>...</td>\n",
       "      <td>...</td>\n",
       "      <td>...</td>\n",
       "      <td>...</td>\n",
       "      <td>...</td>\n",
       "      <td>...</td>\n",
       "      <td>...</td>\n",
       "      <td>...</td>\n",
       "      <td>...</td>\n",
       "      <td>...</td>\n",
       "      <td>...</td>\n",
       "      <td>...</td>\n",
       "    </tr>\n",
       "    <tr>\n",
       "      <th>1301</th>\n",
       "      <td>19822</td>\n",
       "      <td>0</td>\n",
       "      <td>0</td>\n",
       "      <td>0</td>\n",
       "      <td>0.0</td>\n",
       "      <td>0.0</td>\n",
       "      <td>NaN</td>\n",
       "      <td>2.0</td>\n",
       "      <td>2018-11-26 10:59:10</td>\n",
       "      <td>2018-11-26 09:59:10</td>\n",
       "      <td>...</td>\n",
       "      <td>tempier-bandol-cabassaou-2017</td>\n",
       "      <td>2020-01-04 13:57:04</td>\n",
       "      <td>2020-01-04 12:57:04</td>\n",
       "      <td>0.0</td>\n",
       "      <td>https://www.bottle-neck.fr/wp-content/uploads/...</td>\n",
       "      <td>0.0</td>\n",
       "      <td>attachment</td>\n",
       "      <td>image/jpeg</td>\n",
       "      <td>0.0</td>\n",
       "      <td>19822.0</td>\n",
       "    </tr>\n",
       "    <tr>\n",
       "      <th>0</th>\n",
       "      <td>bon-cadeau-25-euros</td>\n",
       "      <td>0</td>\n",
       "      <td>0</td>\n",
       "      <td>0</td>\n",
       "      <td>0.0</td>\n",
       "      <td>10.0</td>\n",
       "      <td>taxable</td>\n",
       "      <td>1.0</td>\n",
       "      <td>2018-06-01 13:53:46</td>\n",
       "      <td>2018-06-01 11:53:46</td>\n",
       "      <td>...</td>\n",
       "      <td>bon-cadeau-de-25-euros</td>\n",
       "      <td>2018-06-01 14:13:57</td>\n",
       "      <td>2018-06-01 12:13:57</td>\n",
       "      <td>0.0</td>\n",
       "      <td>https://www.bottle-neck.fr/?post_type=product&amp;...</td>\n",
       "      <td>0.0</td>\n",
       "      <td>product</td>\n",
       "      <td>NaN</td>\n",
       "      <td>0.0</td>\n",
       "      <td>NaN</td>\n",
       "    </tr>\n",
       "    <tr>\n",
       "      <th>797</th>\n",
       "      <td>13127-1</td>\n",
       "      <td>0</td>\n",
       "      <td>0</td>\n",
       "      <td>0</td>\n",
       "      <td>0.0</td>\n",
       "      <td>0.0</td>\n",
       "      <td>taxable</td>\n",
       "      <td>2.0</td>\n",
       "      <td>2020-06-09 15:42:04</td>\n",
       "      <td>2020-06-09 13:42:04</td>\n",
       "      <td>...</td>\n",
       "      <td>clos-du-mont-olivet-chateauneuf-du-pape-2007-2</td>\n",
       "      <td>2020-07-20 17:09:06</td>\n",
       "      <td>2020-07-20 15:09:06</td>\n",
       "      <td>0.0</td>\n",
       "      <td>https://www.bottle-neck.fr/?post_type=product&amp;...</td>\n",
       "      <td>0.0</td>\n",
       "      <td>product</td>\n",
       "      <td>NaN</td>\n",
       "      <td>0.0</td>\n",
       "      <td>NaN</td>\n",
       "    </tr>\n",
       "    <tr>\n",
       "      <th>1209</th>\n",
       "      <td>bon-cadeau-25-euros</td>\n",
       "      <td>0</td>\n",
       "      <td>0</td>\n",
       "      <td>0</td>\n",
       "      <td>0.0</td>\n",
       "      <td>10.0</td>\n",
       "      <td>NaN</td>\n",
       "      <td>1.0</td>\n",
       "      <td>2018-06-01 13:53:46</td>\n",
       "      <td>2018-06-01 11:53:46</td>\n",
       "      <td>...</td>\n",
       "      <td>bon-cadeau-de-25-euros</td>\n",
       "      <td>2018-06-01 14:13:57</td>\n",
       "      <td>2018-06-01 12:13:57</td>\n",
       "      <td>0.0</td>\n",
       "      <td>https://www.bottle-neck.fr/wp-content/uploads/...</td>\n",
       "      <td>0.0</td>\n",
       "      <td>attachment</td>\n",
       "      <td>image/jpeg</td>\n",
       "      <td>0.0</td>\n",
       "      <td>NaN</td>\n",
       "    </tr>\n",
       "    <tr>\n",
       "      <th>1511</th>\n",
       "      <td>13127-1</td>\n",
       "      <td>0</td>\n",
       "      <td>0</td>\n",
       "      <td>0</td>\n",
       "      <td>0.0</td>\n",
       "      <td>0.0</td>\n",
       "      <td>NaN</td>\n",
       "      <td>2.0</td>\n",
       "      <td>2020-06-09 15:42:04</td>\n",
       "      <td>2020-06-09 13:42:04</td>\n",
       "      <td>...</td>\n",
       "      <td>clos-du-mont-olivet-chateauneuf-du-pape-2007-2</td>\n",
       "      <td>2020-07-20 17:09:06</td>\n",
       "      <td>2020-07-20 15:09:06</td>\n",
       "      <td>0.0</td>\n",
       "      <td>https://www.bottle-neck.fr/wp-content/uploads/...</td>\n",
       "      <td>0.0</td>\n",
       "      <td>attachment</td>\n",
       "      <td>image/jpeg</td>\n",
       "      <td>0.0</td>\n",
       "      <td>NaN</td>\n",
       "    </tr>\n",
       "  </tbody>\n",
       "</table>\n",
       "<p>1428 rows × 25 columns</p>\n",
       "</div>"
      ],
      "text/plain": [
       "                      sku  virtual  downloadable  rating_count  \\\n",
       "339                    38        0             0             0   \n",
       "1123                   38        0             0             0   \n",
       "1060                   41        0             0             0   \n",
       "269                    41        0             0             0   \n",
       "70                    304        0             0             0   \n",
       "...                   ...      ...           ...           ...   \n",
       "1301                19822        0             0             0   \n",
       "0     bon-cadeau-25-euros        0             0             0   \n",
       "797               13127-1        0             0             0   \n",
       "1209  bon-cadeau-25-euros        0             0             0   \n",
       "1511              13127-1        0             0             0   \n",
       "\n",
       "      average_rating  total_sales tax_status  post_author           post_date  \\\n",
       "339              0.0         38.0    taxable          2.0 2018-04-18 12:25:58   \n",
       "1123             0.0         38.0        NaN          2.0 2018-04-18 12:25:58   \n",
       "1060             0.0          0.0        NaN          2.0 2018-04-14 12:01:43   \n",
       "269              0.0          0.0    taxable          2.0 2018-04-14 12:01:43   \n",
       "70               0.0         40.0    taxable          2.0 2018-02-13 12:57:44   \n",
       "...              ...          ...        ...          ...                 ...   \n",
       "1301             0.0          0.0        NaN          2.0 2018-11-26 10:59:10   \n",
       "0                0.0         10.0    taxable          1.0 2018-06-01 13:53:46   \n",
       "797              0.0          0.0    taxable          2.0 2020-06-09 15:42:04   \n",
       "1209             0.0         10.0        NaN          1.0 2018-06-01 13:53:46   \n",
       "1511             0.0          0.0        NaN          2.0 2020-06-09 15:42:04   \n",
       "\n",
       "           post_date_gmt  ...                                       post_name  \\\n",
       "339  2018-04-18 10:25:58  ...      emile-boeckel-cremant-brut-blanc-de-blancs   \n",
       "1123 2018-04-18 10:25:58  ...      emile-boeckel-cremant-brut-blanc-de-blancs   \n",
       "1060 2018-04-14 10:01:43  ...  marcel-windholtz-eau-de-marc-de-gewurztraminer   \n",
       "269  2018-04-14 10:01:43  ...  marcel-windholtz-eau-de-marc-de-gewurztraminer   \n",
       "70   2018-02-13 11:57:44  ...                 gosset-champagne-grande-reserve   \n",
       "...                  ...  ...                                             ...   \n",
       "1301 2018-11-26 09:59:10  ...                   tempier-bandol-cabassaou-2017   \n",
       "0    2018-06-01 11:53:46  ...                          bon-cadeau-de-25-euros   \n",
       "797  2020-06-09 13:42:04  ...  clos-du-mont-olivet-chateauneuf-du-pape-2007-2   \n",
       "1209 2018-06-01 11:53:46  ...                          bon-cadeau-de-25-euros   \n",
       "1511 2020-06-09 13:42:04  ...  clos-du-mont-olivet-chateauneuf-du-pape-2007-2   \n",
       "\n",
       "           post_modified   post_modified_gmt post_parent  \\\n",
       "339  2020-08-27 17:15:03 2020-08-27 15:15:03         0.0   \n",
       "1123 2020-08-27 17:15:03 2020-08-27 15:15:03         0.0   \n",
       "1060 2020-08-03 10:25:02 2020-08-03 08:25:02         0.0   \n",
       "269  2020-08-03 10:25:02 2020-08-03 08:25:02         0.0   \n",
       "70   2020-08-27 11:25:02 2020-08-27 09:25:02         0.0   \n",
       "...                  ...                 ...         ...   \n",
       "1301 2020-01-04 13:57:04 2020-01-04 12:57:04         0.0   \n",
       "0    2018-06-01 14:13:57 2018-06-01 12:13:57         0.0   \n",
       "797  2020-07-20 17:09:06 2020-07-20 15:09:06         0.0   \n",
       "1209 2018-06-01 14:13:57 2018-06-01 12:13:57         0.0   \n",
       "1511 2020-07-20 17:09:06 2020-07-20 15:09:06         0.0   \n",
       "\n",
       "                                                   guid menu_order  \\\n",
       "339   https://www.bottle-neck.fr/?post_type=product&...        0.0   \n",
       "1123  https://www.bottle-neck.fr/wp-content/uploads/...        0.0   \n",
       "1060  https://www.bottle-neck.fr/wp-content/uploads/...        0.0   \n",
       "269   https://www.bottle-neck.fr/?post_type=product&...        0.0   \n",
       "70    https://www.bottle-neck.fr/?post_type=product&...        0.0   \n",
       "...                                                 ...        ...   \n",
       "1301  https://www.bottle-neck.fr/wp-content/uploads/...        0.0   \n",
       "0     https://www.bottle-neck.fr/?post_type=product&...        0.0   \n",
       "797   https://www.bottle-neck.fr/?post_type=product&...        0.0   \n",
       "1209  https://www.bottle-neck.fr/wp-content/uploads/...        0.0   \n",
       "1511  https://www.bottle-neck.fr/wp-content/uploads/...        0.0   \n",
       "\n",
       "       post_type post_mime_type  comment_count     sku1  \n",
       "339      product            NaN            0.0     38.0  \n",
       "1123  attachment     image/jpeg            0.0     38.0  \n",
       "1060  attachment     image/jpeg            0.0     41.0  \n",
       "269      product            NaN            0.0     41.0  \n",
       "70       product            NaN            0.0    304.0  \n",
       "...          ...            ...            ...      ...  \n",
       "1301  attachment     image/jpeg            0.0  19822.0  \n",
       "0        product            NaN            0.0      NaN  \n",
       "797      product            NaN            0.0      NaN  \n",
       "1209  attachment     image/jpeg            0.0      NaN  \n",
       "1511  attachment     image/jpeg            0.0      NaN  \n",
       "\n",
       "[1428 rows x 25 columns]"
      ]
     },
     "execution_count": 342,
     "metadata": {},
     "output_type": "execute_result"
    }
   ],
   "source": [
    "web1.sort_values('sku1')\n",
    "# Il semberait ici que chaque référence apparaisse 2 fois avec la valeur 'product' et 'attachment' alternativement dans la colonne 'post_type':"
   ]
  },
  {
   "cell_type": "markdown",
   "id": "dbf372b2-54fb-449e-aef1-cb9bb5f94046",
   "metadata": {},
   "source": [
    "Vérification de l'hypothèse:"
   ]
  },
  {
   "cell_type": "code",
   "execution_count": 343,
   "id": "14ed735b-ce5e-4225-9e3e-0caed3df4b52",
   "metadata": {},
   "outputs": [
    {
     "name": "stdout",
     "output_type": "stream",
     "text": [
      "(714, 25)\n",
      "(714,)\n"
     ]
    }
   ],
   "source": [
    "df_product = web1.loc[web['post_type']=='product']\n",
    "print(df_product.shape)\n",
    "print(df_product['sku'].unique().shape)"
   ]
  },
  {
   "cell_type": "code",
   "execution_count": 344,
   "id": "e6849db3-6a68-49bc-86fb-b4a7d2e81804",
   "metadata": {},
   "outputs": [
    {
     "name": "stdout",
     "output_type": "stream",
     "text": [
      "(714, 25)\n",
      "(714,)\n"
     ]
    }
   ],
   "source": [
    "df_attachment = web1.loc[web['post_type']=='attachment']\n",
    "print(df_attachment.shape)\n",
    "print(df_attachment['sku'].unique().shape)"
   ]
  },
  {
   "cell_type": "markdown",
   "id": "2992474c-2f81-4464-910b-cb761b6acba8",
   "metadata": {},
   "source": [
    "# Jointures"
   ]
  },
  {
   "cell_type": "code",
   "execution_count": 345,
   "id": "065bc62f-993d-4d02-b881-2cb74ace8844",
   "metadata": {},
   "outputs": [
    {
     "name": "stdout",
     "output_type": "stream",
     "text": [
      "0\n",
      "0\n"
     ]
    }
   ],
   "source": [
    "# vérification de l'unicité de la colonne 'product_id' dans 'erp':\n",
    "print(erp.duplicated('product_id').sum())\n",
    "# vérification de l'unicité de la colonne 'product_id' dans 'liaison':\n",
    "print(liaison.duplicated('product_id').sum())"
   ]
  },
  {
   "cell_type": "code",
   "execution_count": 346,
   "id": "3835dab7-2762-477e-a792-1703b2e22407",
   "metadata": {},
   "outputs": [
    {
     "name": "stdout",
     "output_type": "stream",
     "text": [
      "(825,)\n",
      "(825,)\n"
     ]
    }
   ],
   "source": [
    "print(erp['product_id'].shape)\n",
    "print(liaison['product_id'].shape)"
   ]
  },
  {
   "cell_type": "code",
   "execution_count": 347,
   "id": "0cbbe0ca-d4cf-4a87-8580-e21ff9ab0ddc",
   "metadata": {},
   "outputs": [],
   "source": [
    "erp_liaison = pd.merge(erp, liaison, on='product_id', how = 'outer')"
   ]
  },
  {
   "cell_type": "code",
   "execution_count": 348,
   "id": "317248c7-86a0-4f70-8e5f-3a0a2e8a9b73",
   "metadata": {},
   "outputs": [
    {
     "data": {
      "text/plain": [
       "(825, 6)"
      ]
     },
     "execution_count": 348,
     "metadata": {},
     "output_type": "execute_result"
    }
   ],
   "source": [
    "erp_liaison.shape"
   ]
  },
  {
   "cell_type": "code",
   "execution_count": 349,
   "id": "61efd71c-5923-4bf3-a506-d4fc481e53fc",
   "metadata": {},
   "outputs": [
    {
     "data": {
      "text/plain": [
       "product_id         0\n",
       "onsale_web         0\n",
       "price              0\n",
       "stock_quantity     0\n",
       "stock_status       0\n",
       "id_web            91\n",
       "dtype: int64"
      ]
     },
     "execution_count": 349,
     "metadata": {},
     "output_type": "execute_result"
    }
   ],
   "source": [
    "erp_liaison.isnull().sum()"
   ]
  },
  {
   "cell_type": "code",
   "execution_count": 350,
   "id": "b854759b-7169-48b5-a114-a24107e912a5",
   "metadata": {},
   "outputs": [],
   "source": [
    "df_product = df_product.rename(columns={'sku':'id_web'})"
   ]
  },
  {
   "cell_type": "code",
   "execution_count": 351,
   "id": "3dd11f65-dc39-4607-b04b-6319773e19c9",
   "metadata": {},
   "outputs": [],
   "source": [
    "df_product = df_product.drop(['sku1'], axis=1)"
   ]
  },
  {
   "cell_type": "code",
   "execution_count": 352,
   "id": "55b57864-0691-47aa-bdfc-30fec1ea4d1a",
   "metadata": {},
   "outputs": [
    {
     "name": "stdout",
     "output_type": "stream",
     "text": [
      "0\n",
      "(714, 24)\n",
      "(714,)\n"
     ]
    }
   ],
   "source": [
    "# vérification de l'unicité de la colonne 'id_web' dans 'df_product':\n",
    "print(df_product.duplicated('id_web').sum())\n",
    "print(df_product.shape)\n",
    "print(df_product['id_web'].unique().shape)"
   ]
  },
  {
   "cell_type": "code",
   "execution_count": 353,
   "id": "c74b9f96-34b1-4272-b32d-7d34f63e606e",
   "metadata": {},
   "outputs": [],
   "source": [
    "erp_web = pd.merge(erp_liaison, df_product, on='id_web', how='outer')"
   ]
  },
  {
   "cell_type": "code",
   "execution_count": 354,
   "id": "a794f2b9-efec-47c4-ae62-20254d866bfb",
   "metadata": {},
   "outputs": [
    {
     "data": {
      "text/plain": [
       "(825, 29)"
      ]
     },
     "execution_count": 354,
     "metadata": {},
     "output_type": "execute_result"
    }
   ],
   "source": [
    "erp_web.shape"
   ]
  },
  {
   "cell_type": "code",
   "execution_count": 355,
   "id": "186587ee-ee9f-45ff-9165-bdd66ef4d6e7",
   "metadata": {},
   "outputs": [
    {
     "data": {
      "text/plain": [
       "product_id             0\n",
       "onsale_web             0\n",
       "price                  0\n",
       "stock_quantity         0\n",
       "stock_status           0\n",
       "id_web                91\n",
       "virtual              111\n",
       "downloadable         111\n",
       "rating_count         111\n",
       "average_rating       111\n",
       "total_sales          111\n",
       "tax_status           111\n",
       "post_author          111\n",
       "post_date            111\n",
       "post_date_gmt        111\n",
       "post_title           111\n",
       "post_excerpt         111\n",
       "post_status          111\n",
       "comment_status       111\n",
       "ping_status          111\n",
       "post_name            111\n",
       "post_modified        111\n",
       "post_modified_gmt    111\n",
       "post_parent          111\n",
       "guid                 111\n",
       "menu_order           111\n",
       "post_type            111\n",
       "post_mime_type       825\n",
       "comment_count        111\n",
       "dtype: int64"
      ]
     },
     "execution_count": 355,
     "metadata": {},
     "output_type": "execute_result"
    }
   ],
   "source": [
    "erp_web.isnull().sum()"
   ]
  },
  {
   "cell_type": "markdown",
   "id": "d2558bac-d1f8-4cff-88b7-77e8ddb488e9",
   "metadata": {},
   "source": [
    "##### <font color='green'> Pour 91 valeurs 'product_id' la correspondance 'id_web' est manquante. </font>\n",
    "##### <font color='green'> Pour 20 valeurs 'id_web' les valeurs des colonnes du fichier 'web' sont manquantes. </font>\n",
    "<hr>"
   ]
  },
  {
   "cell_type": "markdown",
   "id": "61882711-8184-4aa9-9a60-213e0c9e1c71",
   "metadata": {},
   "source": [
    "# Requêtes"
   ]
  },
  {
   "cell_type": "markdown",
   "id": "fe7d8548-1f13-4320-a4dd-43a799039c6e",
   "metadata": {},
   "source": [
    ">## Chiffre d'affaires par produit:"
   ]
  },
  {
   "cell_type": "code",
   "execution_count": 356,
   "id": "b98476bb-9c72-475c-9313-55d1656e9ad7",
   "metadata": {},
   "outputs": [
    {
     "data": {
      "text/html": [
       "<div>\n",
       "<style scoped>\n",
       "    .dataframe tbody tr th:only-of-type {\n",
       "        vertical-align: middle;\n",
       "    }\n",
       "\n",
       "    .dataframe tbody tr th {\n",
       "        vertical-align: top;\n",
       "    }\n",
       "\n",
       "    .dataframe thead th {\n",
       "        text-align: right;\n",
       "    }\n",
       "</style>\n",
       "<table border=\"1\" class=\"dataframe\">\n",
       "  <thead>\n",
       "    <tr style=\"text-align: right;\">\n",
       "      <th></th>\n",
       "      <th>product_id</th>\n",
       "      <th>CA_par_pdt</th>\n",
       "    </tr>\n",
       "  </thead>\n",
       "  <tbody>\n",
       "    <tr>\n",
       "      <th>0</th>\n",
       "      <td>3847</td>\n",
       "      <td>145.2</td>\n",
       "    </tr>\n",
       "    <tr>\n",
       "      <th>1</th>\n",
       "      <td>3849</td>\n",
       "      <td>0.0</td>\n",
       "    </tr>\n",
       "    <tr>\n",
       "      <th>2</th>\n",
       "      <td>3850</td>\n",
       "      <td>0.0</td>\n",
       "    </tr>\n",
       "    <tr>\n",
       "      <th>3</th>\n",
       "      <td>4032</td>\n",
       "      <td>42.3</td>\n",
       "    </tr>\n",
       "    <tr>\n",
       "      <th>4</th>\n",
       "      <td>4039</td>\n",
       "      <td>0.0</td>\n",
       "    </tr>\n",
       "    <tr>\n",
       "      <th>...</th>\n",
       "      <td>...</td>\n",
       "      <td>...</td>\n",
       "    </tr>\n",
       "    <tr>\n",
       "      <th>820</th>\n",
       "      <td>7023</td>\n",
       "      <td>0.0</td>\n",
       "    </tr>\n",
       "    <tr>\n",
       "      <th>821</th>\n",
       "      <td>7025</td>\n",
       "      <td>0.0</td>\n",
       "    </tr>\n",
       "    <tr>\n",
       "      <th>822</th>\n",
       "      <td>7247</td>\n",
       "      <td>0.0</td>\n",
       "    </tr>\n",
       "    <tr>\n",
       "      <th>823</th>\n",
       "      <td>7329</td>\n",
       "      <td>NaN</td>\n",
       "    </tr>\n",
       "    <tr>\n",
       "      <th>824</th>\n",
       "      <td>7338</td>\n",
       "      <td>0.0</td>\n",
       "    </tr>\n",
       "  </tbody>\n",
       "</table>\n",
       "<p>825 rows × 2 columns</p>\n",
       "</div>"
      ],
      "text/plain": [
       "     product_id  CA_par_pdt\n",
       "0          3847       145.2\n",
       "1          3849         0.0\n",
       "2          3850         0.0\n",
       "3          4032        42.3\n",
       "4          4039         0.0\n",
       "..          ...         ...\n",
       "820        7023         0.0\n",
       "821        7025         0.0\n",
       "822        7247         0.0\n",
       "823        7329         NaN\n",
       "824        7338         0.0\n",
       "\n",
       "[825 rows x 2 columns]"
      ]
     },
     "execution_count": 356,
     "metadata": {},
     "output_type": "execute_result"
    }
   ],
   "source": [
    "erp_web['CA_par_pdt'] = erp_web['price']*erp_web['total_sales']\n",
    "erp_web[['product_id','CA_par_pdt']]"
   ]
  },
  {
   "cell_type": "code",
   "execution_count": 357,
   "id": "586919ec-289a-465c-a543-cf89396022e8",
   "metadata": {},
   "outputs": [
    {
     "data": {
      "image/png": "[encoded data removed]",
      "text/plain": [
       "<Figure size 1080x360 with 1 Axes>"
      ]
     },
     "metadata": {},
     "output_type": "display_data"
    }
   ],
   "source": [
    "plt.figure(figsize=(15,5))\n",
    "plt.title('Chiffre d\\'affaires des différentes références selon leur prix')\n",
    "plt.xlabel('Prix (€)')\n",
    "plt.ylabel('Chiffre d\\'affaires')\n",
    "plt.scatter(erp_web['price'], erp_web['CA_par_pdt'])\n",
    "plt.show()"
   ]
  },
  {
   "cell_type": "markdown",
   "id": "aeccb158-1804-49ea-8e5b-616734dc6f47",
   "metadata": {},
   "source": [
    ">## Chiffre d'affaires total:"
   ]
  },
  {
   "cell_type": "code",
   "execution_count": 358,
   "id": "7108b007-78c0-4b32-a872-3aa9d3ca5bd6",
   "metadata": {},
   "outputs": [
    {
     "name": "stdout",
     "output_type": "stream",
     "text": [
      "Le chiffre d'affaires en ligne total est de: 70568.60 euros\n"
     ]
    }
   ],
   "source": [
    "CA = erp_web['CA_par_pdt'].sum()\n",
    "print('Le chiffre d\\'affaires en ligne total est de: {:.2f} euros'.format(CA))"
   ]
  },
  {
   "cell_type": "markdown",
   "id": "49e5af25-4909-44c5-88de-c1365f2852c0",
   "metadata": {},
   "source": [
    ">## Outliers:"
   ]
  },
  {
   "cell_type": "code",
   "execution_count": 359,
   "id": "72b14986-1ab6-4c7d-ba88-1d051ae6c7ae",
   "metadata": {},
   "outputs": [
    {
     "name": "stdout",
     "output_type": "stream",
     "text": [
      "225.0\n",
      "5.2\n"
     ]
    }
   ],
   "source": [
    "print(erp_web['price'].max())\n",
    "print(erp_web['price'].min())"
   ]
  },
  {
   "cell_type": "code",
   "execution_count": 360,
   "id": "12e23075-64ef-4b04-b724-20e0e5d7b2ba",
   "metadata": {},
   "outputs": [
    {
     "data": {
      "image/png": "[encoded data removed]",
      "text/plain": [
       "<Figure size 1080x360 with 1 Axes>"
      ]
     },
     "metadata": {},
     "output_type": "display_data"
    }
   ],
   "source": [
    "plt.figure(figsize=(15,5))\n",
    "plt.style.use(\"fivethirtyeight\")\n",
    "plt.title('Prix des produits')\n",
    "plt.boxplot(erp_web.price, vert=False)\n",
    "plt.show()"
   ]
  },
  {
   "cell_type": "markdown",
   "id": "6b466ce6-0447-4f5c-8cb1-46c23db7033a",
   "metadata": {},
   "source": [
    ">>#### Méthode IQR: "
   ]
  },
  {
   "cell_type": "code",
   "execution_count": 361,
   "id": "a96df38c-a815-4d5c-acc6-9d699baba2f4",
   "metadata": {},
   "outputs": [
    {
     "name": "stdout",
     "output_type": "stream",
     "text": [
      "Valeur limite pour les outliers (méthode IQR): 83.10 euros\n"
     ]
    }
   ],
   "source": [
    "Q1 = erp_web['price'].quantile(0.25)\n",
    "Q3 = erp_web['price'].quantile(0.75)\n",
    "IQR = Q3-Q1\n",
    "au_dessus = Q3 + 1.5 * IQR\n",
    "\n",
    "outliers_prices_iqr = erp_web.loc[erp_web['price'] > au_dessus, ['price', 'total_sales', 'post_title']]\n",
    "print('Valeur limite pour les outliers (méthode IQR): {:.2f} euros'.format(au_dessus))"
   ]
  },
  {
   "cell_type": "code",
   "execution_count": 362,
   "id": "036d2bd7-85a9-49c3-b063-a0e65e25888c",
   "metadata": {},
   "outputs": [
    {
     "data": {
      "text/plain": [
       "(37, 3)"
      ]
     },
     "execution_count": 362,
     "metadata": {},
     "output_type": "execute_result"
    }
   ],
   "source": [
    "outliers_prices_iqr.shape"
   ]
  },
  {
   "cell_type": "code",
   "execution_count": 371,
   "id": "07a9b393-d6d1-4688-a5c4-6329d1f0e002",
   "metadata": {},
   "outputs": [
    {
     "data": {
      "text/html": [
       "<div>\n",
       "<style scoped>\n",
       "    .dataframe tbody tr th:only-of-type {\n",
       "        vertical-align: middle;\n",
       "    }\n",
       "\n",
       "    .dataframe tbody tr th {\n",
       "        vertical-align: top;\n",
       "    }\n",
       "\n",
       "    .dataframe thead th {\n",
       "        text-align: right;\n",
       "    }\n",
       "</style>\n",
       "<table border=\"1\" class=\"dataframe\">\n",
       "  <thead>\n",
       "    <tr style=\"text-align: right;\">\n",
       "      <th></th>\n",
       "      <th>price</th>\n",
       "      <th>total_sales</th>\n",
       "      <th>post_title</th>\n",
       "    </tr>\n",
       "  </thead>\n",
       "  <tbody>\n",
       "    <tr>\n",
       "      <th>291</th>\n",
       "      <td>225.0</td>\n",
       "      <td>5.0</td>\n",
       "      <td>Champagne Egly-Ouriet Grand Cru Millésimé 2008</td>\n",
       "    </tr>\n",
       "    <tr>\n",
       "      <th>525</th>\n",
       "      <td>217.5</td>\n",
       "      <td>0.0</td>\n",
       "      <td>David Duband Charmes-Chambertin Grand Cru 2014</td>\n",
       "    </tr>\n",
       "    <tr>\n",
       "      <th>692</th>\n",
       "      <td>191.3</td>\n",
       "      <td>3.0</td>\n",
       "      <td>Coteaux Champenois Egly-Ouriet Ambonnay Rouge ...</td>\n",
       "    </tr>\n",
       "    <tr>\n",
       "      <th>310</th>\n",
       "      <td>176.0</td>\n",
       "      <td>13.0</td>\n",
       "      <td>Cognac Frapin VIP XO</td>\n",
       "    </tr>\n",
       "    <tr>\n",
       "      <th>657</th>\n",
       "      <td>175.0</td>\n",
       "      <td>0.0</td>\n",
       "      <td>Camille Giroud Clos de Vougeot 2016</td>\n",
       "    </tr>\n",
       "    <tr>\n",
       "      <th>313</th>\n",
       "      <td>157.0</td>\n",
       "      <td>0.0</td>\n",
       "      <td>Cognac Frapin Château de Fontpinot 1989 20 Ans...</td>\n",
       "    </tr>\n",
       "    <tr>\n",
       "      <th>30</th>\n",
       "      <td>144.0</td>\n",
       "      <td>NaN</td>\n",
       "      <td>NaN</td>\n",
       "    </tr>\n",
       "    <tr>\n",
       "      <th>478</th>\n",
       "      <td>137.0</td>\n",
       "      <td>5.0</td>\n",
       "      <td>Domaine Des Croix Corton Charlemagne Grand Cru...</td>\n",
       "    </tr>\n",
       "    <tr>\n",
       "      <th>752</th>\n",
       "      <td>135.0</td>\n",
       "      <td>2.0</td>\n",
       "      <td>Champagne Gosset Célébris Vintage 2007</td>\n",
       "    </tr>\n",
       "    <tr>\n",
       "      <th>293</th>\n",
       "      <td>126.5</td>\n",
       "      <td>11.0</td>\n",
       "      <td>Champagne Egly-Ouriet Grand Cru Blanc de Noirs</td>\n",
       "    </tr>\n",
       "    <tr>\n",
       "      <th>615</th>\n",
       "      <td>124.8</td>\n",
       "      <td>0.0</td>\n",
       "      <td>Domaine Weinbach Gewurztraminer Grand Cru Furs...</td>\n",
       "    </tr>\n",
       "    <tr>\n",
       "      <th>708</th>\n",
       "      <td>122.0</td>\n",
       "      <td>0.0</td>\n",
       "      <td>Wemyss Malts Single Cask Scotch Whisky Choc 'n...</td>\n",
       "    </tr>\n",
       "    <tr>\n",
       "      <th>764</th>\n",
       "      <td>121.0</td>\n",
       "      <td>0.0</td>\n",
       "      <td>Domaine des Comtes Lafon Volnay 1er Cru Santen...</td>\n",
       "    </tr>\n",
       "    <tr>\n",
       "      <th>767</th>\n",
       "      <td>121.0</td>\n",
       "      <td>0.0</td>\n",
       "      <td>Domaine des Comtes Lafon Volnay 1er Cru Champa...</td>\n",
       "    </tr>\n",
       "    <tr>\n",
       "      <th>758</th>\n",
       "      <td>116.4</td>\n",
       "      <td>0.0</td>\n",
       "      <td>Domaine Clerget Echezeaux Grand Cru En Orveaux...</td>\n",
       "    </tr>\n",
       "    <tr>\n",
       "      <th>763</th>\n",
       "      <td>115.0</td>\n",
       "      <td>2.0</td>\n",
       "      <td>Domaine des Comtes Lafon Volnay 1er Cru Santen...</td>\n",
       "    </tr>\n",
       "    <tr>\n",
       "      <th>766</th>\n",
       "      <td>115.0</td>\n",
       "      <td>0.0</td>\n",
       "      <td>Domaine des Comtes Lafon Volnay 1er Cru Champa...</td>\n",
       "    </tr>\n",
       "    <tr>\n",
       "      <th>709</th>\n",
       "      <td>114.0</td>\n",
       "      <td>0.0</td>\n",
       "      <td>Wemyss Malts Single Cask Scotch Whisky Chai Ca...</td>\n",
       "    </tr>\n",
       "    <tr>\n",
       "      <th>538</th>\n",
       "      <td>112.0</td>\n",
       "      <td>0.0</td>\n",
       "      <td>Champagne Agrapart &amp;amp; Fils L'Avizoise Extra...</td>\n",
       "    </tr>\n",
       "    <tr>\n",
       "      <th>320</th>\n",
       "      <td>109.6</td>\n",
       "      <td>0.0</td>\n",
       "      <td>Château de Meursault Puligny-Montrachet 1er Cr...</td>\n",
       "    </tr>\n",
       "    <tr>\n",
       "      <th>311</th>\n",
       "      <td>108.5</td>\n",
       "      <td>2.0</td>\n",
       "      <td>Cognac Frapin Château de Fontpinot XO</td>\n",
       "    </tr>\n",
       "    <tr>\n",
       "      <th>757</th>\n",
       "      <td>105.6</td>\n",
       "      <td>0.0</td>\n",
       "      <td>David Duband Chambolle-Musigny 1er Cru Les Sen...</td>\n",
       "    </tr>\n",
       "    <tr>\n",
       "      <th>531</th>\n",
       "      <td>105.0</td>\n",
       "      <td>0.0</td>\n",
       "      <td>Domaine des Comtes Lafon Volnay 1er Cru Santen...</td>\n",
       "    </tr>\n",
       "    <tr>\n",
       "      <th>530</th>\n",
       "      <td>105.0</td>\n",
       "      <td>0.0</td>\n",
       "      <td>Domaine des Comtes Lafon Volnay 1er Cru Santen...</td>\n",
       "    </tr>\n",
       "    <tr>\n",
       "      <th>314</th>\n",
       "      <td>104.0</td>\n",
       "      <td>1.0</td>\n",
       "      <td>Cognac Frapin Cigar Blend</td>\n",
       "    </tr>\n",
       "    <tr>\n",
       "      <th>477</th>\n",
       "      <td>102.3</td>\n",
       "      <td>0.0</td>\n",
       "      <td>Domaine Des Croix Corton Grand Cru Les Grèves ...</td>\n",
       "    </tr>\n",
       "    <tr>\n",
       "      <th>154</th>\n",
       "      <td>100.0</td>\n",
       "      <td>0.0</td>\n",
       "      <td>Zind-Humbrecht Riesling Grand Cru Rangen De Th...</td>\n",
       "    </tr>\n",
       "    <tr>\n",
       "      <th>765</th>\n",
       "      <td>99.0</td>\n",
       "      <td>0.0</td>\n",
       "      <td>Domaine des Comtes Lafon Volnay 1er Cru Champa...</td>\n",
       "    </tr>\n",
       "    <tr>\n",
       "      <th>707</th>\n",
       "      <td>93.0</td>\n",
       "      <td>0.0</td>\n",
       "      <td>Wemyss Malts Single Cask Scotch Whisky Chocola...</td>\n",
       "    </tr>\n",
       "    <tr>\n",
       "      <th>605</th>\n",
       "      <td>92.0</td>\n",
       "      <td>0.0</td>\n",
       "      <td>Tempier Bandol Cabassaou 2017</td>\n",
       "    </tr>\n",
       "    <tr>\n",
       "      <th>55</th>\n",
       "      <td>92.0</td>\n",
       "      <td>NaN</td>\n",
       "      <td>NaN</td>\n",
       "    </tr>\n",
       "    <tr>\n",
       "      <th>156</th>\n",
       "      <td>88.4</td>\n",
       "      <td>0.0</td>\n",
       "      <td>Zind-Humbrecht Pinot Gris Grand Cru Rangen De ...</td>\n",
       "    </tr>\n",
       "    <tr>\n",
       "      <th>539</th>\n",
       "      <td>86.8</td>\n",
       "      <td>0.0</td>\n",
       "      <td>Champagne Agrapart &amp;amp; Fils Minéral Extra Br...</td>\n",
       "    </tr>\n",
       "    <tr>\n",
       "      <th>19</th>\n",
       "      <td>86.1</td>\n",
       "      <td>NaN</td>\n",
       "      <td>NaN</td>\n",
       "    </tr>\n",
       "    <tr>\n",
       "      <th>297</th>\n",
       "      <td>85.6</td>\n",
       "      <td>1.0</td>\n",
       "      <td>Champagne Larmandier-Bernier Grand Cru Les Che...</td>\n",
       "    </tr>\n",
       "    <tr>\n",
       "      <th>47</th>\n",
       "      <td>84.7</td>\n",
       "      <td>NaN</td>\n",
       "      <td>NaN</td>\n",
       "    </tr>\n",
       "    <tr>\n",
       "      <th>610</th>\n",
       "      <td>83.7</td>\n",
       "      <td>0.0</td>\n",
       "      <td>Lucien Boillot Puligny-Montrachet 1er Cru Les ...</td>\n",
       "    </tr>\n",
       "  </tbody>\n",
       "</table>\n",
       "</div>"
      ],
      "text/plain": [
       "     price  total_sales                                         post_title\n",
       "291  225.0          5.0     Champagne Egly-Ouriet Grand Cru Millésimé 2008\n",
       "525  217.5          0.0     David Duband Charmes-Chambertin Grand Cru 2014\n",
       "692  191.3          3.0  Coteaux Champenois Egly-Ouriet Ambonnay Rouge ...\n",
       "310  176.0         13.0                               Cognac Frapin VIP XO\n",
       "657  175.0          0.0                Camille Giroud Clos de Vougeot 2016\n",
       "313  157.0          0.0  Cognac Frapin Château de Fontpinot 1989 20 Ans...\n",
       "30   144.0          NaN                                                NaN\n",
       "478  137.0          5.0  Domaine Des Croix Corton Charlemagne Grand Cru...\n",
       "752  135.0          2.0             Champagne Gosset Célébris Vintage 2007\n",
       "293  126.5         11.0     Champagne Egly-Ouriet Grand Cru Blanc de Noirs\n",
       "615  124.8          0.0  Domaine Weinbach Gewurztraminer Grand Cru Furs...\n",
       "708  122.0          0.0  Wemyss Malts Single Cask Scotch Whisky Choc 'n...\n",
       "764  121.0          0.0  Domaine des Comtes Lafon Volnay 1er Cru Santen...\n",
       "767  121.0          0.0  Domaine des Comtes Lafon Volnay 1er Cru Champa...\n",
       "758  116.4          0.0  Domaine Clerget Echezeaux Grand Cru En Orveaux...\n",
       "763  115.0          2.0  Domaine des Comtes Lafon Volnay 1er Cru Santen...\n",
       "766  115.0          0.0  Domaine des Comtes Lafon Volnay 1er Cru Champa...\n",
       "709  114.0          0.0  Wemyss Malts Single Cask Scotch Whisky Chai Ca...\n",
       "538  112.0          0.0  Champagne Agrapart &amp; Fils L'Avizoise Extra...\n",
       "320  109.6          0.0  Château de Meursault Puligny-Montrachet 1er Cr...\n",
       "311  108.5          2.0              Cognac Frapin Château de Fontpinot XO\n",
       "757  105.6          0.0  David Duband Chambolle-Musigny 1er Cru Les Sen...\n",
       "531  105.0          0.0  Domaine des Comtes Lafon Volnay 1er Cru Santen...\n",
       "530  105.0          0.0  Domaine des Comtes Lafon Volnay 1er Cru Santen...\n",
       "314  104.0          1.0                          Cognac Frapin Cigar Blend\n",
       "477  102.3          0.0  Domaine Des Croix Corton Grand Cru Les Grèves ...\n",
       "154  100.0          0.0  Zind-Humbrecht Riesling Grand Cru Rangen De Th...\n",
       "765   99.0          0.0  Domaine des Comtes Lafon Volnay 1er Cru Champa...\n",
       "707   93.0          0.0  Wemyss Malts Single Cask Scotch Whisky Chocola...\n",
       "605   92.0          0.0                      Tempier Bandol Cabassaou 2017\n",
       "55    92.0          NaN                                                NaN\n",
       "156   88.4          0.0  Zind-Humbrecht Pinot Gris Grand Cru Rangen De ...\n",
       "539   86.8          0.0  Champagne Agrapart &amp; Fils Minéral Extra Br...\n",
       "19    86.1          NaN                                                NaN\n",
       "297   85.6          1.0  Champagne Larmandier-Bernier Grand Cru Les Che...\n",
       "47    84.7          NaN                                                NaN\n",
       "610   83.7          0.0  Lucien Boillot Puligny-Montrachet 1er Cru Les ..."
      ]
     },
     "execution_count": 371,
     "metadata": {},
     "output_type": "execute_result"
    }
   ],
   "source": [
    "outliers_prices_iqr.sort_values('price', ascending=False)"
   ]
  },
  {
   "cell_type": "markdown",
   "id": "1e0261e6-7eb2-40f1-bb14-1166074af82a",
   "metadata": {},
   "source": [
    "##### <font color='green'> On trouve 4 références avec les données manquantes parmi les outliers. Les 33 autres références désignent des Rieslings, des Champagnes, des Cognacs, des whiskies, des grands crus. Les prix constatés n'ont rien d'aberrants pour ce type de produits. Les outliers doivent être conservés.  </font>"
   ]
  },
  {
   "cell_type": "code",
   "execution_count": 364,
   "id": "5d063cac-6dce-4ff1-84a9-1754b3b1491b",
   "metadata": {},
   "outputs": [
    {
     "data": {
      "image/png": "[encoded data removed]",
      "text/plain": [
       "<Figure size 1008x360 with 1 Axes>"
      ]
     },
     "metadata": {},
     "output_type": "display_data"
    }
   ],
   "source": [
    "inliers = erp_web.loc[erp_web['price'] <= au_dessus, ['price', 'total_sales']]\n",
    "plt.figure(figsize=(14,5))\n",
    "plt.title('Ventes des différentes références selon leur prix')\n",
    "plt.xlabel('Prix (€)')\n",
    "plt.ylabel('Ventes')\n",
    "plt.scatter(inliers.price, inliers.total_sales, s=15)\n",
    "plt.scatter(outliers_prices_iqr.price, outliers_prices_iqr.total_sales, s=15)\n",
    "plt.legend([\"Inliers\", \"Outliers\"])\n",
    "plt.show()"
   ]
  },
  {
   "cell_type": "markdown",
   "id": "f3efc9ee-d614-42cd-bb09-aed9cf2610cf",
   "metadata": {},
   "source": [
    ">>#### Méthode z-score:"
   ]
  },
  {
   "cell_type": "code",
   "execution_count": 365,
   "id": "bd0199f9-5aa6-4dbf-8385-d734c8bc1880",
   "metadata": {},
   "outputs": [],
   "source": [
    "from scipy.stats import zscore"
   ]
  },
  {
   "cell_type": "code",
   "execution_count": 366,
   "id": "af664a9f-1d38-4694-8342-8c4fc3ca9788",
   "metadata": {},
   "outputs": [],
   "source": [
    "erp_web['Price zscore'] = zscore(erp_web['price'])"
   ]
  },
  {
   "cell_type": "code",
   "execution_count": 367,
   "id": "4d939e52-732e-4acb-92c0-58821a89eef4",
   "metadata": {},
   "outputs": [],
   "source": [
    "outliers_prices_z = erp_web.loc[abs(erp_web['Price zscore'])>2,'price']"
   ]
  },
  {
   "cell_type": "code",
   "execution_count": 368,
   "id": "868c9d15-7cbd-47ce-8a1a-22b1c0626b59",
   "metadata": {},
   "outputs": [
    {
     "data": {
      "text/plain": [
       "(34,)"
      ]
     },
     "execution_count": 368,
     "metadata": {},
     "output_type": "execute_result"
    }
   ],
   "source": [
    "outliers_prices_z.shape"
   ]
  },
  {
   "cell_type": "code",
   "execution_count": 369,
   "id": "2e51355c-63f3-49c3-a006-c6c20a07bf9e",
   "metadata": {},
   "outputs": [
    {
     "name": "stdout",
     "output_type": "stream",
     "text": [
      "Valeur limite pour les outliers (méthode z-score): 86.01 euros\n"
     ]
    }
   ],
   "source": [
    "# z_score = (i-mean)/std donc\n",
    "# 2 = (i-mean)/std\n",
    "# i = (2 + mean / std) *std\n",
    "print('Valeur limite pour les outliers (méthode z-score): {:.2f} euros'.format((2+(erp_web['price'].mean()/erp_web['price'].std()))*erp_web['price'].std()))"
   ]
  },
  {
   "cell_type": "markdown",
   "id": "91e8e22b-b800-4372-a641-dbe6c74c15ee",
   "metadata": {},
   "source": [
    ">## Optionnel:"
   ]
  },
  {
   "cell_type": "code",
   "execution_count": 370,
   "id": "c794fc51-e1c4-4827-981d-aedd730e3c5f",
   "metadata": {},
   "outputs": [
    {
     "data": {
      "image/png": "[encoded data removed]",
      "text/plain": [
       "<Figure size 1080x576 with 1 Axes>"
      ]
     },
     "metadata": {},
     "output_type": "display_data"
    }
   ],
   "source": [
    "plt.figure(figsize=(15,8))\n",
    "plt.hist(erp_web['price'], bins=50)\n",
    "plt.xticks([10*i for i in range(24)])\n",
    "plt.yticks ([5*i for i in range(25)])\n",
    "plt.title('Références par catégorie de prix')\n",
    "plt.xlabel('Prix (€)')\n",
    "plt.ylabel('Nombre de références')\n",
    "plt.show()"
   ]
  },
  {
   "cell_type": "code",
   "execution_count": null,
   "id": "67b10810-db3c-450c-8e41-ca15864a379e",
   "metadata": {},
   "outputs": [],
   "source": []
  }
 ],
 "metadata": {
  "kernelspec": {
   "display_name": "Python 3 (ipykernel)",
   "language": "python",
   "name": "python3"
  },
  "language_info": {
   "codemirror_mode": {
    "name": "ipython",
    "version": 3
   },
   "file_extension": ".py",
   "mimetype": "text/x-python",
   "name": "python",
   "nbconvert_exporter": "python",
   "pygments_lexer": "ipython3",
   "version": "3.9.7"
  }
 },
 "nbformat": 4,
 "nbformat_minor": 5
}
